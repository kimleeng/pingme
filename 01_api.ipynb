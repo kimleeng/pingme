{
 "cells": [
  {
   "cell_type": "code",
   "execution_count": null,
   "metadata": {},
   "outputs": [],
   "source": [
    "#| default_exp api"
   ]
  },
  {
   "cell_type": "markdown",
   "metadata": {},
   "source": [
    "# API"
   ]
  },
  {
   "cell_type": "markdown",
   "metadata": {},
   "source": [
    "To install notebook development environment run the following command:\n",
    "`conda create env -p ./.venv --file conda.env.yml`"
   ]
  },
  {
   "cell_type": "code",
   "execution_count": null,
   "metadata": {},
   "outputs": [],
   "source": [
    "#|hide\n",
    "# Development libraries, not required for package.\n",
    "from nbdev.showdoc import *"
   ]
  },
  {
   "cell_type": "markdown",
   "metadata": {},
   "source": [
    "Included libraries"
   ]
  },
  {
   "cell_type": "code",
   "execution_count": null,
   "metadata": {},
   "outputs": [],
   "source": [
    "#|export\n",
    "# Imports required for package\n",
    "from pingme.core import Card, PingMe"
   ]
  },
  {
   "cell_type": "code",
   "execution_count": null,
   "metadata": {},
   "outputs": [],
   "source": [
    "#|hide\n",
    "# For development sets real config values which are not stored in git\n",
    "import os\n",
    "from pathlib import Path\n",
    "\n",
    "if os.environ.get(\"PINGME_CONFIG_PATH\") is None and Path(\"./config/config.env\").is_file():\n",
    "    os.environ[\"PINGME_CONFIG_PATH\"] = \"./config/config.env\""
   ]
  },
  {
   "cell_type": "markdown",
   "metadata": {},
   "source": [
    "## Notebook Variables\n",
    "Values are used here while not in `core` because of the values being set for this to run as a service."
   ]
  },
  {
   "cell_type": "code",
   "execution_count": null,
   "metadata": {},
   "outputs": [],
   "source": [
    "#|export\n",
    "from pingme.core import get_config\n",
    "import os\n",
    "PINGME_CONFIG_PATH = os.environ.get(\"PINGME_CONFIG_PATH\")\n",
    "config = get_config(PINGME_CONFIG_PATH)\n",
    "\n",
    "import distutils\n",
    "import json\n",
    "WEBHOOK_URL = config['PINGME_WEBHOOK_URL']\n",
    "EMAIL_FROM = config['PINGME_EMAIL_FROM']\n",
    "EMAIL_TO = config['PINGME_EMAIL_TO']\n",
    "SMTP_HOST = config['PINGME_SMTP_HOST']\n",
    "SMTP_PORT = config['PINGME_SMTP_PORT']\n",
    "SMTP_USER = config['PINGME_SMTP_USER']\n",
    "SMTP_PASSWORD = config['PINGME_SMTP_PASSWORD']\n",
    "LOG_FILE = config['PINGME_LOG_FILE']\n",
    "TITLE = config['PINGME_TITLE']\n",
    "TEXT = config['PINGME_TEXT']\n",
    "CARD_DIR = config['PINGME_CARD_DIR']\n",
    "CARD_FILE = config['PINGME_CARD_FILE']\n",
    "CARD_EXT = config['PINGME_CARD_EXT']\n",
    "CARD_CONTEXT = json.loads(config['PINGME_CARD_CONTEXT'])\n",
    "SEND_EMAIL = distutils.util.strtobool(config['PINGME_SEND_EMAIL'])\n",
    "SEND_WEBHOOK = distutils.util.strtobool(config['PINGME_SEND_WEBHOOK'])\n",
    "SEND_LOG_FILE = distutils.util.strtobool(config['PINGME_SEND_LOG_FILE'])"
   ]
  },
  {
   "cell_type": "markdown",
   "metadata": {},
   "source": [
    "Used the [FastAPI Notebook](https://github.com/David-Lor/FastAPI_LightningTalk-Notebook/blob/master/FastAPI.ipynb) as a starting point to see how to run commands within Jupyter, then looked into running the service [inside the notebook](https://stackoverflow.com/questions/63833593/how-to-run-fastapi-uvicorn-in-google-colab) which worked but you couldn't get passed the cell. So I ended up using the [test client](https://fastapi.tiangolo.com/tutorial/testing/) which makes sense"
   ]
  },
  {
   "cell_type": "code",
   "execution_count": null,
   "metadata": {},
   "outputs": [],
   "source": [
    "#|export\n",
    "import uvicorn\n",
    "from fastapi import FastAPI\n",
    "from fastapi.testclient import TestClient\n",
    "\n",
    "app = FastAPI()\n",
    "\n",
    "@app.get(\"/\")\n",
    "async def read_main():\n",
    "    return {\"msg\": \"Hello World\"}"
   ]
  },
  {
   "cell_type": "code",
   "execution_count": null,
   "metadata": {},
   "outputs": [],
   "source": [
    "client = TestClient(app)\n",
    "response = client.get(\"/\")\n",
    "print(response.status_code, response.json())"
   ]
  },
  {
   "cell_type": "code",
   "execution_count": null,
   "metadata": {},
   "outputs": [],
   "source": [
    "#|export\n",
    "from fastapi import HTTPException\n",
    "@app.post(\"/webhook\")\n",
    "async def send_to_webhook(card: Card):\n",
    "    try:\n",
    "        notification = PingMe(card, CARD_DIR, CARD_EXT)\n",
    "        response = notification.send_to_webhook(WEBHOOK_URL)\n",
    "    except Exception as e:\n",
    "        raise HTTPException(status_code=404, detail=\"Error in getting or sending card\")\n",
    "    return response"
   ]
  },
  {
   "cell_type": "code",
   "execution_count": null,
   "metadata": {},
   "outputs": [],
   "source": [
    "client = TestClient(app)\n",
    "response = client.post(\"/webhook\", json={\"name\":\"default\", \"context\":{\"title\":\"Title here\", \"text\":\"Text here\"}})\n",
    "print(response.json())"
   ]
  },
  {
   "cell_type": "code",
   "execution_count": null,
   "metadata": {},
   "outputs": [],
   "source": [
    "client = TestClient(app)\n",
    "response = client.post(\"/webhook\", json={\"name\": CARD_FILE, \"context\": {\"title\": TITLE, \"text\": TEXT}})\n",
    "# Can test when live with curl -d '{\"name\":\"default\", \"context\":{\"title\":\"Title here\", \"text\":\"Text here\"}}' -H 'Content-Type: application/json' -X POST http://localhost:8081/webhook"
   ]
  },
  {
   "cell_type": "code",
   "execution_count": null,
   "metadata": {},
   "outputs": [],
   "source": [
    "#|export\n",
    "from fastapi import HTTPException\n",
    "@app.post(\"/email\")\n",
    "async def send_to_email(card: Card):\n",
    "    try:\n",
    "        notification = PingMe(card, CARD_DIR, CARD_EXT)\n",
    "        response = notification.send_to_email(EMAIL_FROM, EMAIL_TO, SMTP_HOST, SMTP_PORT, SMTP_USER, SMTP_PASSWORD)\n",
    "    except Exception as e:\n",
    "        raise HTTPException(status_code=404, detail=f\"Error in getting or sending card {e}\")\n",
    "    return response"
   ]
  },
  {
   "cell_type": "code",
   "execution_count": null,
   "metadata": {},
   "outputs": [],
   "source": [
    "client = TestClient(app)\n",
    "response = client.post(\"/email\", json={\"name\": CARD_FILE, \"context\": {\"title\": TITLE, \"text\": TEXT}})\n",
    "print(response.status_code, response.json())"
   ]
  },
  {
   "cell_type": "code",
   "execution_count": null,
   "metadata": {},
   "outputs": [],
   "source": [
    "#|export\n",
    "from fastapi import HTTPException\n",
    "@app.post(\"/logfile\")\n",
    "async def send_to_logfile(card: Card):\n",
    "    try:\n",
    "        notification = PingMe(card, CARD_DIR, CARD_EXT)\n",
    "        response = notification.send_to_log_file(LOG_FILE)\n",
    "    except Exception as e:\n",
    "        raise HTTPException(status_code=404, detail=\"Error in getting or sending card\")\n",
    "    return response"
   ]
  },
  {
   "cell_type": "markdown",
   "metadata": {},
   "source": [
    "For running the web service"
   ]
  },
  {
   "cell_type": "code",
   "execution_count": null,
   "metadata": {},
   "outputs": [],
   "source": [
    "#|export\n",
    "def web_service():\n",
    "    uvicorn.run(app)"
   ]
  },
  {
   "cell_type": "code",
   "execution_count": null,
   "metadata": {},
   "outputs": [],
   "source": [
    "#| hide\n",
    "from nbdev import nbdev_export\n",
    "nbdev_export()"
   ]
  }
 ],
 "metadata": {
  "kernelspec": {
   "display_name": "Python 3.10.5 (conda)",
   "language": "python",
   "name": "python3"
  }
 },
 "nbformat": 4,
 "nbformat_minor": 4
}
