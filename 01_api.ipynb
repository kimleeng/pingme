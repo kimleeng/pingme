{
 "cells": [
  {
   "cell_type": "code",
   "execution_count": null,
   "metadata": {},
   "outputs": [],
   "source": [
    "#| default_exp api"
   ]
  },
  {
   "cell_type": "markdown",
   "metadata": {},
   "source": [
    "# API"
   ]
  },
  {
   "cell_type": "markdown",
   "metadata": {},
   "source": [
    "To install notebook development environment run the following command:\n",
    "`conda create env -p ./.venv --file conda.env.yml`"
   ]
  },
  {
   "cell_type": "code",
   "execution_count": null,
   "metadata": {},
   "outputs": [],
   "source": [
    "#|hide\n",
    "# Development libraries, not required for package.\n",
    "from nbdev.showdoc import *"
   ]
  },
  {
   "cell_type": "markdown",
   "metadata": {},
   "source": [
    "Included libraries"
   ]
  },
  {
   "cell_type": "code",
   "execution_count": null,
   "metadata": {},
   "outputs": [],
   "source": [
    "#|export\n",
    "# Imports required for package\n",
    "from pingme.core import PingMe"
   ]
  },
  {
   "cell_type": "code",
   "execution_count": null,
   "metadata": {},
   "outputs": [],
   "source": [
    "#|hide\n",
    "# For development sets real config values which are not stored in git\n",
    "import os\n",
    "from pathlib import Path\n",
    "\n",
    "if os.environ.get(\"PINGME_CONFIG_PATH\") is None and Path(\"./config/config.env\").is_file():\n",
    "    os.environ[\"PINGME_CONFIG_PATH\"] = \"./config/config.env\"\n",
    "\n",
    "PINGME_CONFIG_PATH = os.environ[\"PINGME_CONFIG_PATH\"]"
   ]
  },
  {
   "cell_type": "markdown",
   "metadata": {},
   "source": [
    "Used the [FastAPI Notebook](https://github.com/David-Lor/FastAPI_LightningTalk-Notebook/blob/master/FastAPI.ipynb) as a starting point to see how to run commands within Jupyter, then looked into running the service [inside the notebook](https://stackoverflow.com/questions/63833593/how-to-run-fastapi-uvicorn-in-google-colab) which worked but you couldn't get passed the cell. So I ended up using the [test client](https://fastapi.tiangolo.com/tutorial/testing/) which makes sense"
   ]
  },
  {
   "cell_type": "code",
   "execution_count": null,
   "metadata": {},
   "outputs": [],
   "source": [
    "#|export\n",
    "import uvicorn\n",
    "from fastapi import FastAPI\n",
    "from fastapi.testclient import TestClient\n",
    "\n",
    "app = FastAPI()\n",
    "\n",
    "@app.get(\"/\")\n",
    "async def read_main():\n",
    "    return {\"msg\": \"Hello World\"}\n",
    "\n",
    "# client = TestClient(app)\n",
    "\n",
    "# def test_read_main():\n",
    "#     response = client.get(\"/\")\n",
    "#     print(response)\n",
    "#     assert response.status_code == 200\n",
    "#     assert response.json() == {\"msg\": \"Hello World\"}"
   ]
  },
  {
   "cell_type": "code",
   "execution_count": null,
   "metadata": {},
   "outputs": [
    {
     "name": "stdout",
     "output_type": "stream",
     "text": [
      "200 {'msg': 'Hello World'}\n"
     ]
    }
   ],
   "source": [
    "client = TestClient(app)\n",
    "response = client.get(\"/\")\n",
    "print(response.status_code, response.json())"
   ]
  },
  {
   "cell_type": "code",
   "execution_count": null,
   "metadata": {},
   "outputs": [],
   "source": [
    "#|export\n",
    "@app.get(\"/test\")\n",
    "async def read_test():\n",
    "    return {\"msg\": \"Test World\"}"
   ]
  },
  {
   "cell_type": "code",
   "execution_count": null,
   "metadata": {},
   "outputs": [
    {
     "name": "stdout",
     "output_type": "stream",
     "text": [
      "200 {'msg': 'Test World'}\n"
     ]
    }
   ],
   "source": [
    "client = TestClient(app)\n",
    "response = client.get(\"/test\")\n",
    "print(response.status_code, response.json())"
   ]
  },
  {
   "cell_type": "code",
   "execution_count": null,
   "metadata": {},
   "outputs": [
    {
     "name": "stdout",
     "output_type": "stream",
     "text": [
      "200 {'Fest': 'Pyfest'}\n"
     ]
    }
   ],
   "source": [
    "#|export\n",
    "@app.get(\"/fest\")\n",
    "async def get_fest(name:str):\n",
    "    return {\"Fest\": f\"{name}fest\"}"
   ]
  },
  {
   "cell_type": "code",
   "execution_count": null,
   "metadata": {},
   "outputs": [],
   "source": [
    "client = TestClient(app)\n",
    "response = client.get(\"/fest?name=Py\")\n",
    "print(response.status_code, response.json())"
   ]
  },
  {
   "cell_type": "code",
   "execution_count": null,
   "metadata": {},
   "outputs": [
    {
     "name": "stdout",
     "output_type": "stream",
     "text": [
      "200 {'status_code': 200, 'response': '1'}\n"
     ]
    }
   ],
   "source": [
    "#|export\n",
    "@app.get(\"/teams\")\n",
    "async def get_test():\n",
    "    notification = PingMe(title=\"Test\", text=\"Test\")\n",
    "    test= notification.send_to_webhook(\"https://dksund.webhook.office.com/webhookb2/00b7d9bf-4d44-4eaa-8922-a96700f72c82@d0155445-8a4c-4780-9c13-33c78f22890e/IncomingWebhook/20b9007420b2416d9ca54e66da2b30dc/ac8e8393-1bd6-4d64-a2e5-f869e41d4ab8\")\n",
    "    return test"
   ]
  },
  {
   "cell_type": "code",
   "execution_count": null,
   "metadata": {},
   "outputs": [],
   "source": [
    "client = TestClient(app)\n",
    "response = client.get(\"/teams\")\n",
    "print(response.status_code, response.json())"
   ]
  },
  {
   "cell_type": "markdown",
   "metadata": {},
   "source": [
    "For running the web service"
   ]
  },
  {
   "cell_type": "code",
   "execution_count": null,
   "metadata": {},
   "outputs": [],
   "source": [
    "#|export\n",
    "def web_service():\n",
    "    uvicorn.run(app)"
   ]
  },
  {
   "cell_type": "code",
   "execution_count": null,
   "metadata": {},
   "outputs": [],
   "source": [
    "#| hide\n",
    "from nbdev import nbdev_export\n",
    "nbdev_export()"
   ]
  }
 ],
 "metadata": {
  "kernelspec": {
   "display_name": "Python 3.10.5 (conda)",
   "language": "python",
   "name": "python3"
  }
 },
 "nbformat": 4,
 "nbformat_minor": 4
}
