{
 "cells": [
  {
   "cell_type": "code",
   "execution_count": null,
   "metadata": {},
   "outputs": [],
   "source": [
    "#| default_exp api"
   ]
  },
  {
   "cell_type": "markdown",
   "metadata": {},
   "source": [
    "# API"
   ]
  },
  {
   "cell_type": "markdown",
   "metadata": {},
   "source": [
    "To install notebook development environment run the following command:\n",
    "`conda create env -p ./.venv --file conda.env.yml`"
   ]
  },
  {
   "cell_type": "code",
   "execution_count": null,
   "metadata": {},
   "outputs": [],
   "source": [
    "#|hide\n",
    "# Development libraries, not required for package.\n",
    "from nbdev.showdoc import *"
   ]
  },
  {
   "cell_type": "markdown",
   "metadata": {},
   "source": [
    "Included libraries"
   ]
  },
  {
   "cell_type": "code",
   "execution_count": null,
   "metadata": {},
   "outputs": [],
   "source": [
    "#|export\n",
    "# Imports required for package\n",
    "from pingme.core import Card, PingMe, set_env_variables"
   ]
  },
  {
   "cell_type": "code",
   "execution_count": null,
   "metadata": {},
   "outputs": [],
   "source": [
    "#|hide\n",
    "# For development sets real config values which are not stored in git\n",
    "import os\n",
    "from pathlib import Path\n",
    "\n",
    "if os.environ.get(\"PINGME_CONFIG_PATH\") is None and Path(\"./config/config.env\").is_file():\n",
    "    os.environ[\"PINGME_CONFIG_PATH\"] = \"./config/config.env\""
   ]
  },
  {
   "cell_type": "markdown",
   "metadata": {},
   "source": [
    "#|hide\n",
    "\n",
    "check env vars. This service requires a properly set `config.env` to work."
   ]
  },
  {
   "cell_type": "code",
   "execution_count": null,
   "metadata": {},
   "outputs": [],
   "source": [
    "#|export\n",
    "import os\n",
    "set_env_variables(os.environ.get(\"PINGME_CONFIG_PATH\", None))"
   ]
  },
  {
   "cell_type": "code",
   "execution_count": null,
   "metadata": {},
   "outputs": [],
   "source": [
    "#|hide\n",
    "for k, v in os.environ.items():\n",
    "    # If ENV var starts with PINGME_ then print\n",
    "    if k.startswith(\"PINGME_\"):\n",
    "        print(f\"{k}={v}\")"
   ]
  },
  {
   "cell_type": "markdown",
   "metadata": {},
   "source": [
    "## Notebook Variables\n",
    "\n",
    "Here you can see included potential variables and their ENV variable names."
   ]
  },
  {
   "cell_type": "markdown",
   "metadata": {},
   "source": [
    "#|hide\n",
    "\n",
    "Values here are used for this service and are thus `#|export`."
   ]
  },
  {
   "cell_type": "code",
   "execution_count": null,
   "metadata": {},
   "outputs": [],
   "source": [
    "#|export\n",
    "import json\n",
    "\n",
    "PINGME_ENV_CARD_NAME = os.environ.get('PINGME_ENV_CARD_NAME',None)\n",
    "PINGME_ENV_CARD_CONTEXT = json.loads(os.environ.get('PINGME_ENV_CARD_CONTEXT', '{}'))\n",
    "PINGME_ENV_CARD_DIR = os.environ.get('PINGME_ENV_CARD_DIR', None)\n",
    "PINGME_ENV_CARD_EXT = os.environ.get('PINGME_ENV_CARD_EXT', None)\n",
    "\n",
    "# For reducing spam when doing dev work\n",
    "SEND_EMAIL = True\n",
    "SEND_WEBHOOK = True\n",
    "SEND_LOGFILE = True"
   ]
  },
  {
   "cell_type": "markdown",
   "metadata": {},
   "source": [
    "Used the [FastAPI Notebook](https://github.com/David-Lor/FastAPI_LightningTalk-Notebook/blob/master/FastAPI.ipynb) as a starting point to see how to run commands within Jupyter, then looked into running the service [inside the notebook](https://stackoverflow.com/questions/63833593/how-to-run-fastapi-uvicorn-in-google-colab) which worked but you couldn't get passed the cell. So I ended up using the [test client](https://fastapi.tiangolo.com/tutorial/testing/) which makes sense"
   ]
  },
  {
   "cell_type": "code",
   "execution_count": null,
   "metadata": {},
   "outputs": [],
   "source": [
    "#|export\n",
    "import uvicorn\n",
    "from fastapi import FastAPI\n",
    "from fastapi.testclient import TestClient\n",
    "\n",
    "app = FastAPI()\n",
    "\n",
    "@app.get(\"/\")\n",
    "async def read_main():\n",
    "    # Using the default place as a information post\n",
    "    return {\"msg\": \"PingMe: please POST to /webhook or /email or /logfile}\"}"
   ]
  },
  {
   "cell_type": "code",
   "execution_count": null,
   "metadata": {},
   "outputs": [],
   "source": [
    "client = TestClient(app)\n",
    "response = client.get(\"/\")\n",
    "print(response.status_code, response.json())"
   ]
  },
  {
   "cell_type": "code",
   "execution_count": null,
   "metadata": {},
   "outputs": [],
   "source": [
    "#|export\n",
    "from fastapi import HTTPException\n",
    "@app.post(\"/webhook\")\n",
    "async def send_webhook(card: Card):\n",
    "    try:\n",
    "        notification = PingMe(card, PINGME_ENV_CARD_DIR, PINGME_ENV_CARD_EXT)\n",
    "        response = notification.send_webhook()\n",
    "    except Exception as e:\n",
    "        raise HTTPException(status_code=404, detail=\"Error in getting or sending card\")\n",
    "    return response"
   ]
  },
  {
   "cell_type": "code",
   "execution_count": null,
   "metadata": {},
   "outputs": [],
   "source": [
    "client = TestClient(app)\n",
    "response = client.post(\"/webhook\", json={\"name\":\"default\", \"context\":{\"title\":\"Title here\", \"text\":\"Text here\"}})\n",
    "print(response.json())"
   ]
  },
  {
   "cell_type": "code",
   "execution_count": null,
   "metadata": {},
   "outputs": [],
   "source": [
    "#|export\n",
    "from fastapi import HTTPException\n",
    "@app.post(\"/email\")\n",
    "async def send_email(card: Card):\n",
    "    try:\n",
    "        notification = PingMe(card, PINGME_ENV_CARD_DIR, PINGME_ENV_CARD_EXT)\n",
    "        response = notification.send_email()\n",
    "    except Exception as e:\n",
    "        raise HTTPException(status_code=404, detail=f\"Error in getting or sending card {e}\")\n",
    "    return response"
   ]
  },
  {
   "cell_type": "code",
   "execution_count": null,
   "metadata": {},
   "outputs": [],
   "source": [
    "client = TestClient(app)\n",
    "response = client.post(\"/email\", json={\"name\":\"default\", \"context\":{\"title\":\"Title here\", \"text\":\"Text here\"}})\n",
    "print(response.json())"
   ]
  },
  {
   "cell_type": "code",
   "execution_count": null,
   "metadata": {},
   "outputs": [],
   "source": [
    "#|export\n",
    "from fastapi import HTTPException\n",
    "@app.post(\"/logfile\")\n",
    "async def send_logfile(card: Card):\n",
    "    try:\n",
    "        notification = PingMe(card, PINGME_ENV_CARD_EXT, PINGME_ENV_CARD_EXT)\n",
    "        response = notification.send_logfile()\n",
    "    except Exception as e:\n",
    "        raise HTTPException(status_code=404, detail=\"Error in getting or sending card\")\n",
    "    return response"
   ]
  },
  {
   "cell_type": "code",
   "execution_count": null,
   "metadata": {},
   "outputs": [],
   "source": [
    "client = TestClient(app)\n",
    "response = client.post(\"/logfile\", json={\"name\":\"default\", \"context\":{\"title\":\"Title here\", \"text\":\"Text here\"}})\n",
    "print(response.json())"
   ]
  },
  {
   "cell_type": "markdown",
   "metadata": {},
   "source": [
    "For running the web service"
   ]
  },
  {
   "cell_type": "code",
   "execution_count": null,
   "metadata": {},
   "outputs": [],
   "source": [
    "#|export\n",
    "def web_service():\n",
    "    uvicorn.run(app)"
   ]
  },
  {
   "cell_type": "code",
   "execution_count": null,
   "metadata": {},
   "outputs": [],
   "source": [
    "#| hide\n",
    "from nbdev import nbdev_export\n",
    "nbdev_export()"
   ]
  }
 ],
 "metadata": {
  "kernelspec": {
   "display_name": "Python 3.10.5 (conda)",
   "language": "python",
   "name": "python3"
  }
 },
 "nbformat": 4,
 "nbformat_minor": 4
}
